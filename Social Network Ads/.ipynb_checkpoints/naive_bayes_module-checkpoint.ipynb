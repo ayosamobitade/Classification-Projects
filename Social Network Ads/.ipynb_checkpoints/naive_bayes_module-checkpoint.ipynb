{
 "cells": [
  {
   "cell_type": "code",
   "execution_count": 1,
   "metadata": {},
   "outputs": [],
   "source": [
    "import numpy as np\n",
    "import pandas as pd\n",
    "import pickle\n",
    "\n"
   ]
  },
  {
   "cell_type": "code",
   "execution_count": 2,
   "metadata": {},
   "outputs": [
    {
     "ename": "SyntaxError",
     "evalue": "unexpected EOF while parsing (<ipython-input-2-ddd823594b9c>, line 15)",
     "output_type": "error",
     "traceback": [
      "\u001b[1;36m  File \u001b[1;32m\"<ipython-input-2-ddd823594b9c>\"\u001b[1;36m, line \u001b[1;32m15\u001b[0m\n\u001b[1;33m    \u001b[0m\n\u001b[1;37m    ^\u001b[0m\n\u001b[1;31mSyntaxError\u001b[0m\u001b[1;31m:\u001b[0m unexpected EOF while parsing\n"
     ]
    }
   ],
   "source": [
    "class naive_bayes:\n",
    "    def __init__(self, model_file, scaler_file):\n",
    "        with open('naive_bayes_model', 'rb') as model_file, open('scaler', 'rb') as scaler_file:\n",
    "            self.classifier = pickle.load(model_file)\n",
    "            self.scaler = pickle.load(scaler_file)\n",
    "            self.data = None\n",
    "            \n",
    "    def load_scale_data(self, data_file):\n",
    "        dataset = pd.read_csv(data_file).values\n",
    "        scale_dataset = self.scaler.transform(dataset)\n",
    "        self.data = scale_dataset\n",
    "        \n",
    "        \n",
    "    def predict(self):\n",
    "        if self.data in not None:\n",
    "            return self.classifier.predict(self.data)\n",
    "        \n",
    "        "
   ]
  },
  {
   "cell_type": "code",
   "execution_count": null,
   "metadata": {},
   "outputs": [],
   "source": [
    "\n"
   ]
  },
  {
   "cell_type": "code",
   "execution_count": null,
   "metadata": {},
   "outputs": [],
   "source": []
  },
  {
   "cell_type": "code",
   "execution_count": null,
   "metadata": {},
   "outputs": [],
   "source": []
  }
 ],
 "metadata": {
  "kernelspec": {
   "display_name": "Python 3",
   "language": "python",
   "name": "python3"
  },
  "language_info": {
   "codemirror_mode": {
    "name": "ipython",
    "version": 3
   },
   "file_extension": ".py",
   "mimetype": "text/x-python",
   "name": "python",
   "nbconvert_exporter": "python",
   "pygments_lexer": "ipython3",
   "version": "3.7.6"
  }
 },
 "nbformat": 4,
 "nbformat_minor": 4
}

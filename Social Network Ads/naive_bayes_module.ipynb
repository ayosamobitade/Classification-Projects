{
 "cells": [
  {
   "cell_type": "code",
   "execution_count": 1,
   "metadata": {},
   "outputs": [],
   "source": [
    "import numpy as np\n",
    "import pandas as pd\n",
    "import pickle\n",
    "\n"
   ]
  },
  {
   "cell_type": "code",
   "execution_count": null,
   "metadata": {},
   "outputs": [],
   "source": [
    "data_file = \n"
   ]
  },
  {
   "cell_type": "code",
   "execution_count": 6,
   "metadata": {},
   "outputs": [],
   "source": [
    "class naive_bayes:\n",
    "    def __init__(self, model_file, scaler_file):\n",
    "        with open('naive_bayes_model', 'rb') as model_file, open('scaler', 'rb') as scaler_file:\n",
    "            self.classifier = pickle.load(model_file)\n",
    "            self.scaler = pickle.load(scaler_file)\n",
    "            self.data = None\n",
    "            \n",
    "    def load_and_scale_data(self, data_file):\n",
    "        dataset = pd.read_csv(data_file).values\n",
    "        scaled_dataset = self.scaler.transform(dataset)\n",
    "        self.data = scaled_dataset\n",
    "        \n",
    "        \n",
    "    def predict(self):\n",
    "        if (self.data is not None):\n",
    "            pred = self.classifier.predict(self.data)\n",
    "            return pred\n",
    "        \n",
    "        "
   ]
  },
  {
   "cell_type": "code",
   "execution_count": null,
   "metadata": {},
   "outputs": [],
   "source": [
    "\n"
   ]
  },
  {
   "cell_type": "code",
   "execution_count": null,
   "metadata": {},
   "outputs": [],
   "source": []
  },
  {
   "cell_type": "code",
   "execution_count": null,
   "metadata": {},
   "outputs": [],
   "source": []
  }
 ],
 "metadata": {
  "kernelspec": {
   "display_name": "Python 3",
   "language": "python",
   "name": "python3"
  },
  "language_info": {
   "codemirror_mode": {
    "name": "ipython",
    "version": 3
   },
   "file_extension": ".py",
   "mimetype": "text/x-python",
   "name": "python",
   "nbconvert_exporter": "python",
   "pygments_lexer": "ipython3",
   "version": "3.7.6"
  }
 },
 "nbformat": 4,
 "nbformat_minor": 4
}
